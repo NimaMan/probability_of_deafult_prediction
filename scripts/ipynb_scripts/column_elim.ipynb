{
 "cells": [
  {
   "cell_type": "markdown",
   "metadata": {},
   "source": [
    "The objective of this notebook is to define a set of critetion for two objectieves:\n",
    "- identify the columns that have different CDF for customers who deafult and customers who do not\n",
    "- identify the categorical versus cont varialbes (a simple starting point could be setting counting the bins with pfd over a certain threshold)"
   ]
  },
  {
   "cell_type": "code",
   "execution_count": null,
   "metadata": {},
   "outputs": [],
   "source": []
  }
 ],
 "metadata": {
  "language_info": {
   "name": "python"
  },
  "orig_nbformat": 4
 },
 "nbformat": 4,
 "nbformat_minor": 2
}
